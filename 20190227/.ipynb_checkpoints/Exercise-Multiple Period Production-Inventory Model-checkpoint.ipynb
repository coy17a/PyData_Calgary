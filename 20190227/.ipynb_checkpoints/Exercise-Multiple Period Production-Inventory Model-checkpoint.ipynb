{
 "cells": [
  {
   "cell_type": "markdown",
   "metadata": {},
   "source": [
    "### Acme Manufacturing Company as a contract to deliver 100, 250, 190, 140, 200 and 110 home windows over the next 6 months. Production cost (labor, material and utility) per window varies by period and is estimated to be \\\\$50, \\\\$45, \\\\$55, \\\\$48, \\\\$52 and \\\\$50 over the next 6 months. To take advantage of the fluctuations in manufacturing cost, Acme can produce more windows than needed in a given month and hold the extra units for delivery in later months. This will incur a storage cost at the rate of \\\\$8 per window per month, assessed on end-of-month inventory. Develop a linear program to determine the optimum production schedule"
   ]
  },
  {
   "cell_type": "markdown",
   "metadata": {},
   "source": [
    "### What is the objective function of this problem? How about Decision variables and Constraints? Try and write out the mathematical formulation of the problem"
   ]
  },
  {
   "cell_type": "markdown",
   "metadata": {},
   "source": [
    "### Solve using PuLP"
   ]
  },
  {
   "cell_type": "code",
   "execution_count": 2,
   "metadata": {
    "collapsed": true
   },
   "outputs": [],
   "source": [
    "from pulp import *"
   ]
  },
  {
   "cell_type": "markdown",
   "metadata": {},
   "source": [
    "#### Create lists or dataframes with data: production cost per month, demand per month, inventory cost"
   ]
  },
  {
   "cell_type": "code",
   "execution_count": 27,
   "metadata": {
    "collapsed": true
   },
   "outputs": [],
   "source": []
  },
  {
   "cell_type": "markdown",
   "metadata": {},
   "source": [
    "#### create problem object in pulp "
   ]
  },
  {
   "cell_type": "code",
   "execution_count": 17,
   "metadata": {
    "collapsed": true
   },
   "outputs": [],
   "source": [
    "# Create the 'prob' variable to contain the problem data\n"
   ]
  },
  {
   "cell_type": "code",
   "execution_count": 21,
   "metadata": {
    "collapsed": true
   },
   "outputs": [],
   "source": [
    "# Dictionaries created to contain the referenced Variables\n"
   ]
  },
  {
   "cell_type": "code",
   "execution_count": 39,
   "metadata": {
    "collapsed": true
   },
   "outputs": [
    {
     "name": "stderr",
     "output_type": "stream",
     "text": [
      "c:\\users\\admin\\appdata\\local\\programs\\python\\python37-32\\lib\\site-packages\\pulp\\pulp.py:1349: UserWarning: Overwriting previously set objective.\n",
      "  warnings.warn(\"Overwriting previously set objective.\")\n"
     ]
    }
   ],
   "source": [
    "# The objective function is added to 'prob' first\n"
   ]
  },
  {
   "cell_type": "code",
   "execution_count": 47,
   "metadata": {
    "collapsed": true
   },
   "outputs": [],
   "source": [
    "#add constraints\n"
   ]
  },
  {
   "cell_type": "code",
   "execution_count": 45,
   "metadata": {
    "collapsed": true
   },
   "outputs": [],
   "source": [
    "# The problem data is written to an .lp file\n"
   ]
  },
  {
   "cell_type": "code",
   "execution_count": 48,
   "metadata": {
    "collapsed": true
   },
   "outputs": [
    {
     "name": "stdout",
     "output_type": "stream",
     "text": [
      "Status: Optimal\n",
      "inventory_month_1 = 0.0\n",
      "inventory_month_2 = 190.0\n",
      "inventory_month_3 = 0.0\n",
      "inventory_month_4 = 0.0\n",
      "inventory_month_5 = 0.0\n",
      "inventory_month_6 = 0.0\n",
      "prod_month_1 = 100.0\n",
      "prod_month_2 = 440.0\n",
      "prod_month_3 = 0.0\n",
      "prod_month_4 = 140.0\n",
      "prod_month_5 = 220.0\n",
      "prod_month_6 = 110.0\n",
      "Total Cost of Ingredients per can =  49980.0\n"
     ]
    }
   ],
   "source": [
    "# The problem is solved using PuLP's choice of Solver\n",
    "\n",
    "# The status of the solution is printed to the screen\n",
    "\n",
    "\n",
    "# Each of the variables is printed with it's resolved optimum value\n",
    "\n",
    "\n",
    "# The optimised objective function value is printed to the screen\n"
   ]
  }
 ],
 "metadata": {
  "kernelspec": {
   "display_name": "Python 3",
   "language": "python",
   "name": "python3"
  },
  "language_info": {
   "codemirror_mode": {
    "name": "ipython",
    "version": 3
   },
   "file_extension": ".py",
   "mimetype": "text/x-python",
   "name": "python",
   "nbconvert_exporter": "python",
   "pygments_lexer": "ipython3",
   "version": "3.7.0"
  }
 },
 "nbformat": 4,
 "nbformat_minor": 2
}
