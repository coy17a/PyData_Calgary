{
 "cells": [
  {
   "cell_type": "markdown",
   "metadata": {},
   "source": [
    "# Sunco Oil Blending Problem"
   ]
  },
  {
   "cell_type": "markdown",
   "metadata": {},
   "source": [
    "This is a classic Operations Research teaching problem. Taken from Operations Research: Applications and Algorithms by Wayne L. Winston, a cheat sheet can be found @ http://www.cpp.edu/~sparisay/Courses/SharedExamples/LP-blending/SuncoBlending-problem.doc\n",
    "\n",
    "with a solution to the problem @ \n",
    "https://www.usna.edu/Users/math/dphillip/sa305.s13/sunco-sec2001.pdf\n",
    "\n",
    "In this notebook we will use the package PuLP, a python package for linear programming to solve this LP."
   ]
  },
  {
   "cell_type": "markdown",
   "metadata": {},
   "source": [
    "## Import Libraries"
   ]
  },
  {
   "cell_type": "code",
   "execution_count": 1,
   "metadata": {},
   "outputs": [],
   "source": [
    "from pulp import *\n",
    "import cplex"
   ]
  },
  {
   "cell_type": "markdown",
   "metadata": {},
   "source": [
    "## Define problem and decision variables"
   ]
  },
  {
   "cell_type": "markdown",
   "metadata": {},
   "source": [
    "xij is the barrels of crude oil i used daily to produce gas j\n",
    "\n",
    "aij is the dollars spend on daily advertising of gas\n",
    "\n",
    "i = 1,2,3 and j =1,2,3"
   ]
  },
  {
   "cell_type": "code",
   "execution_count": 2,
   "metadata": {},
   "outputs": [],
   "source": [
    "prob = LpProblem(\"Sunco Oil Blending\", LpMaximize)"
   ]
  },
  {
   "cell_type": "markdown",
   "metadata": {},
   "source": [
    "Hint: you can declare variables by looping through and appending to a list. However, we don't have a lot so let's declare them outright."
   ]
  },
  {
   "cell_type": "code",
   "execution_count": 3,
   "metadata": {},
   "outputs": [],
   "source": [
    "#Decision variable declaration\n",
    "x11= LpVariable(\"Oil1_Gas1\", lowBound=0,cat=\"continuous\")\n",
    "x12= LpVariable(\"Oil1_Gas2\", lowBound=0,cat=\"continuous\")\n",
    "x13= LpVariable(\"Oil1_Gas3\", lowBound=0,cat=\"continuous\")\n",
    "x21= LpVariable(\"Oil2_Gas1\", lowBound=0,cat=\"continuous\")\n",
    "x22= LpVariable(\"Oil2_Gas2\", lowBound=0,cat=\"continuous\")\n",
    "x23= LpVariable(\"Oil2_Gas3\", lowBound=0,cat=\"continuous\")\n",
    "x31= LpVariable(\"Oil3_Gas1\", lowBound=0,cat=\"continuous\")\n",
    "x32= LpVariable(\"Oil3_Gas2\", lowBound=0,cat=\"continuous\")\n",
    "x33= LpVariable(\"Oil3_Gas3\", lowBound=0,cat=\"continuous\")\n",
    "a1=LpVariable(\"Gas1_ad\",lowBound=0,cat=\"continuous\")\n",
    "a2=LpVariable(\"Gas2_ad\",lowBound=0,cat=\"continuous\")\n",
    "a3=LpVariable(\"Gas3_ad\",lowBound=0,cat=\"continuous\")"
   ]
  },
  {
   "cell_type": "markdown",
   "metadata": {},
   "source": [
    "Staging data in dictionaries, but we can also use other methods such as dataframes."
   ]
  },
  {
   "cell_type": "code",
   "execution_count": 4,
   "metadata": {},
   "outputs": [],
   "source": [
    "prod_cost=4\n",
    "ad_cost=10\n",
    "gas1 = {\n",
    "    \"NAME\": \"Gas1\",\n",
    "    \"SALES_PRICE\":70.0,\n",
    "    \"MIN_OCATANE_RATING\":10.0,\n",
    "    \"MAX_SULPHUR\":0.01,\n",
    "    \"DEMAND\":3000.0\n",
    "}\n",
    "\n",
    "gas2= {\n",
    "    \"NAME\": \"Gas2\",\n",
    "    \"SALES_PRICE\":60.0,\n",
    "    \"MIN_OCATANE_RATING\":8.0,\n",
    "    \"MAX_SULPHUR\":0.02,\n",
    "    \"DEMAND\":2000.0,\n",
    "}\n",
    "\n",
    "gas3= {\n",
    "    \"NAME\": \"Gas3\",\n",
    "    \"SALES_PRICE\":50.0,\n",
    "    \"MIN_OCATANE_RATING\":6.0,\n",
    "    \"MAX_SULPHUR\":0.01,\n",
    "    \"DEMAND\":1000.0\n",
    "}\n",
    "\n",
    "crude1 = {\n",
    "    \"NAME\": \"Crude1\",\n",
    "    \"COST\":45.0,\n",
    "    \"CAPACITY\":5000.0,\n",
    "    \"OCTANE\":12.0,\n",
    "    \"SULPHUR\":0.5/100\n",
    "}\n",
    "\n",
    "crude2 = {\n",
    "    \"NAME\": \"Crude1\",\n",
    "    \"COST\":35.0,\n",
    "    \"CAPACITY\":5000.0,\n",
    "    \"OCTANE\":6.0,\n",
    "    \"SULPHUR\":2.0/100\n",
    "}\n",
    "\n",
    "crude3 = {\n",
    "    \"NAME\": \"Crude1\",\n",
    "    \"COST\":25.0,\n",
    "    \"CAPACITY\":5000.0,\n",
    "    \"OCTANE\":8.0,\n",
    "    \"SULPHUR\":3.0/100\n",
    "}"
   ]
  },
  {
   "cell_type": "markdown",
   "metadata": {},
   "source": [
    "## Define the objective function"
   ]
  },
  {
   "cell_type": "markdown",
   "metadata": {},
   "source": [
    "The first \"prob+=\" should be the objective function. Pulp sees that there is no equation, but a statement and will identify this as the objective."
   ]
  },
  {
   "cell_type": "code",
   "execution_count": 5,
   "metadata": {},
   "outputs": [],
   "source": [
    "#Objective function - maximize daily profit\n",
    "prob+=(gas1[\"SALES_PRICE\"]-crude1[\"COST\"]-prod_cost)*x11 + (gas2[\"SALES_PRICE\"]-crude1[\"COST\"]-prod_cost)*x12 + \\\n",
    "(gas3[\"SALES_PRICE\"]-crude1[\"COST\"]-prod_cost)*x13 +\\\n",
    "(gas1[\"SALES_PRICE\"]-crude2[\"COST\"]-prod_cost)*x21 + (gas2[\"SALES_PRICE\"]-crude2[\"COST\"]-prod_cost)*x22 + \\\n",
    "(gas3[\"SALES_PRICE\"]-crude2[\"COST\"]-prod_cost)*x23 +\\\n",
    "(gas1[\"SALES_PRICE\"]-crude3[\"COST\"]-prod_cost)*x31 + (gas2[\"SALES_PRICE\"]-crude3[\"COST\"]-prod_cost)*x32 + \\\n",
    "(gas3[\"SALES_PRICE\"]-crude3[\"COST\"]-prod_cost)*x33-a1-a2-a3\n"
   ]
  },
  {
   "cell_type": "markdown",
   "metadata": {},
   "source": [
    "## Define the constraints"
   ]
  },
  {
   "cell_type": "markdown",
   "metadata": {},
   "source": [
    "We use \"prob+=\" in the same way as the objective, but we have equalities or inequalities which pulp uses to identify these as constraints. You can also be creative with looping through a dataframe and variables and create many constraints at a time."
   ]
  },
  {
   "cell_type": "code",
   "execution_count": 6,
   "metadata": {},
   "outputs": [],
   "source": [
    "#Constrait 1 Gas 1 produced daily should equal its daily demand\n",
    "prob += x11 + x21 + x31 - 10*a1 == gas1[\"DEMAND\"]\n",
    "\n",
    "#Constrait 2 Gas 2 produced daily should equal its daily demand\n",
    "prob += x12 + x22 + x32 - 10*a2 == gas2[\"DEMAND\"]\n",
    "\n",
    "#Constrait 3 Gas 3 produced daily should equal its daily demand\n",
    "prob += x13 + x23 + x33 - 10*a3 == gas3[\"DEMAND\"]\n",
    "\n",
    "# #constraints 4-6 5000 barrels of each crude can be purchased each day - but we can write this an easier way!\n",
    "prob += x11 + x12 + x13 <= crude1[\"CAPACITY\"]\n",
    "\n",
    "prob += x21 + x22 + x23 <= crude2[\"CAPACITY\"]\n",
    "\n",
    "prob += x31 + x32 + x33 <= crude3[\"CAPACITY\"]\n",
    "\n",
    "# #max refinery capacity of 14000 barrels\n",
    "prob += x11+x12+x13+x21+x22+x23+x31+x32+x33<=14000\n",
    "\n",
    "# # #constraints 8-10 impose minimum octane levels on the LP\n",
    "\n",
    "prob+= (crude1[\"OCTANE\"]-gas1[\"MIN_OCATANE_RATING\"])*x11+(crude2[\"OCTANE\"]-gas1[\"MIN_OCATANE_RATING\"])*x21+\\\n",
    "(crude3[\"OCTANE\"]-gas1[\"MIN_OCATANE_RATING\"])*x31 >=0.0\n",
    "\n",
    "prob+= (crude1[\"OCTANE\"]-gas2[\"MIN_OCATANE_RATING\"] )*x12+(crude2[\"OCTANE\"]-gas2[\"MIN_OCATANE_RATING\"] )*x22+\\\n",
    "(crude3[\"OCTANE\"]-gas2[\"MIN_OCATANE_RATING\"] )*x32 >= 0.0\n",
    "\n",
    "prob+= (crude1[\"OCTANE\"]-gas3[\"MIN_OCATANE_RATING\"])*x13+(crude2[\"OCTANE\"]-gas3[\"MIN_OCATANE_RATING\"])*x23+\\\n",
    "(crude3[\"OCTANE\"]-gas3[\"MIN_OCATANE_RATING\"])*x33 >= 0.0\n",
    "\n",
    "\n",
    "# #constraint to impose max sulphur\n",
    "prob+=(crude1[\"SULPHUR\"]-gas1[\"MAX_SULPHUR\"])*x11+(crude2[\"SULPHUR\"]-gas1[\"MAX_SULPHUR\"])*x21+\\\n",
    "(crude3[\"SULPHUR\"]-gas1[\"MAX_SULPHUR\"])*x31 <= 0.0\n",
    "prob+=(crude1[\"SULPHUR\"]-gas2[\"MAX_SULPHUR\"])*x12+(crude2[\"SULPHUR\"]-gas2[\"MAX_SULPHUR\"])*x22+\\\n",
    "(crude3[\"SULPHUR\"]-gas2[\"MAX_SULPHUR\"])*x32 <= 0.0\n",
    "prob+=(crude1[\"SULPHUR\"]-gas3[\"MAX_SULPHUR\"])*x13+(crude2[\"SULPHUR\"]-gas3[\"MAX_SULPHUR\"])*x23+\\\n",
    "(crude3[\"SULPHUR\"]-gas3[\"MAX_SULPHUR\"])*x33 <= 0.0\n",
    "\n",
    "    \n",
    "\n",
    "    "
   ]
  },
  {
   "cell_type": "markdown",
   "metadata": {},
   "source": [
    "## You can write the LP to a text file (.lp can be opened with an editor)"
   ]
  },
  {
   "cell_type": "markdown",
   "metadata": {},
   "source": [
    "On OSX, I use textedit to open this file. Windows can use notepad and linux can use gedit. Writing the LP to a file lets you see the LP symbolically, as if you were reading it mathematically."
   ]
  },
  {
   "cell_type": "code",
   "execution_count": 7,
   "metadata": {},
   "outputs": [],
   "source": [
    "prob.writeLP(\"sunco.lp\")"
   ]
  },
  {
   "cell_type": "markdown",
   "metadata": {},
   "source": [
    "## Solve the LP"
   ]
  },
  {
   "cell_type": "code",
   "execution_count": 8,
   "metadata": {},
   "outputs": [
    {
     "name": "stdout",
     "output_type": "stream",
     "text": [
      "Solution time: 0.009210000000000051\n"
     ]
    }
   ],
   "source": [
    "prob.solve()\n",
    "print (\"Solution time: \" + str(prob.solutionTime))"
   ]
  },
  {
   "cell_type": "code",
   "execution_count": 9,
   "metadata": {},
   "outputs": [
    {
     "name": "stdout",
     "output_type": "stream",
     "text": [
      "Status: Optimal\n"
     ]
    }
   ],
   "source": [
    "print (\"Status:\", LpStatus[prob.status])"
   ]
  },
  {
   "cell_type": "code",
   "execution_count": 10,
   "metadata": {},
   "outputs": [
    {
     "name": "stdout",
     "output_type": "stream",
     "text": [
      "Gas1_ad = 0.0\n",
      "Gas2_ad = 750.0\n",
      "Gas3_ad = 0.0\n",
      "Oil1_Gas1 = 2222.2222\n",
      "Oil1_Gas2 = 2111.1111\n",
      "Oil1_Gas3 = 666.66667\n",
      "Oil2_Gas1 = 444.44444\n",
      "Oil2_Gas2 = 4222.2222\n",
      "Oil2_Gas3 = 333.33333\n",
      "Oil3_Gas1 = 333.33333\n",
      "Oil3_Gas2 = 3166.6667\n",
      "Oil3_Gas3 = 0.0\n"
     ]
    }
   ],
   "source": [
    "for v in prob.variables():\n",
    "    print (v.name, \"=\", v.varValue)"
   ]
  },
  {
   "cell_type": "code",
   "execution_count": 11,
   "metadata": {},
   "outputs": [
    {
     "data": {
      "text/plain": [
       "287749.99967"
      ]
     },
     "execution_count": 11,
     "metadata": {},
     "output_type": "execute_result"
    }
   ],
   "source": [
    "prob.objective.value()"
   ]
  },
  {
   "cell_type": "code",
   "execution_count": 12,
   "metadata": {},
   "outputs": [
    {
     "name": "stdout",
     "output_type": "stream",
     "text": [
      "CPU times: user 4 µs, sys: 1 µs, total: 5 µs\n",
      "Wall time: 9.06 µs\n",
      "Solution time: 0.031021000000000076\n"
     ]
    }
   ],
   "source": [
    "%time \n",
    "prob.solve(CPLEX_PY(msg=0))\n",
    "print (\"Solution time: \" + str(prob.solutionTime))"
   ]
  },
  {
   "cell_type": "code",
   "execution_count": 13,
   "metadata": {},
   "outputs": [],
   "source": [
    "#as the problem gets bigger, commercial solvers such as CPLEX and GUROBI will outperform CBC."
   ]
  },
  {
   "cell_type": "code",
   "execution_count": 14,
   "metadata": {},
   "outputs": [
    {
     "name": "stdout",
     "output_type": "stream",
     "text": [
      "Gas1_ad = 0.0\n",
      "Gas2_ad = 750.0000000000002\n",
      "Gas3_ad = 0.0\n",
      "Oil1_Gas1 = 2088.8888888888887\n",
      "Oil1_Gas2 = 2111.1111111111113\n",
      "Oil1_Gas3 = 800.0\n",
      "Oil2_Gas1 = 777.7777777777777\n",
      "Oil2_Gas2 = 4222.222222222223\n",
      "Oil2_Gas3 = 0.0\n",
      "Oil3_Gas1 = 133.33333333333337\n",
      "Oil3_Gas2 = 3166.6666666666674\n",
      "Oil3_Gas3 = 200.00000000000006\n"
     ]
    }
   ],
   "source": [
    "for v in prob.variables():\n",
    "    print (v.name, \"=\", v.varValue)"
   ]
  },
  {
   "cell_type": "code",
   "execution_count": 15,
   "metadata": {},
   "outputs": [
    {
     "data": {
      "text/plain": [
       "287750.0"
      ]
     },
     "execution_count": 15,
     "metadata": {},
     "output_type": "execute_result"
    }
   ],
   "source": [
    "prob.objective.value()"
   ]
  },
  {
   "cell_type": "markdown",
   "metadata": {},
   "source": [
    "You will notice that there are multiple optimal solutions! CPLEX tends to do a better job with decimal places and keeping the answer as an integer."
   ]
  },
  {
   "cell_type": "code",
   "execution_count": null,
   "metadata": {},
   "outputs": [],
   "source": []
  }
 ],
 "metadata": {
  "kernelspec": {
   "display_name": "Python 3",
   "language": "python",
   "name": "python3"
  },
  "language_info": {
   "codemirror_mode": {
    "name": "ipython",
    "version": 3
   },
   "file_extension": ".py",
   "mimetype": "text/x-python",
   "name": "python",
   "nbconvert_exporter": "python",
   "pygments_lexer": "ipython3",
   "version": "3.6.7"
  }
 },
 "nbformat": 4,
 "nbformat_minor": 2
}
